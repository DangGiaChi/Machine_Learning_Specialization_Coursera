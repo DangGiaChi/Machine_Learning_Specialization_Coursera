{
 "cells": [
  {
   "cell_type": "code",
   "execution_count": 73,
   "metadata": {},
   "outputs": [],
   "source": [
    "import numpy as np\n",
    "import copy"
   ]
  },
  {
   "cell_type": "code",
   "execution_count": 74,
   "metadata": {},
   "outputs": [],
   "source": [
    "X_train = np.array([[0.5, 1.5], [1,1], [1.5, 0.5], [3, 0.5], [2, 2], [1, 2.5]])  \n",
    "y_train = np.array([0, 0, 0, 1, 1, 1])                                           \n",
    "w_tmp = np.array([1.,1.])\n",
    "b_tmp = -3"
   ]
  },
  {
   "cell_type": "code",
   "execution_count": 75,
   "metadata": {},
   "outputs": [],
   "source": [
    "def sigmoid(x):\n",
    "    return 1.0 / (1.0 + np.exp(-x))"
   ]
  },
  {
   "cell_type": "code",
   "execution_count": 76,
   "metadata": {},
   "outputs": [],
   "source": [
    "def f_wb(w, b, x):\n",
    "    if x.ndim == 1:\n",
    "        return sigmoid(np.dot(w, x) + b)\n",
    "    elif x.ndim > 1:\n",
    "        return (sigmoid(np.sum(w * x, axis = 1) + b)).reshape(-1, 1)\n",
    "    \n",
    "    return w * x + b"
   ]
  },
  {
   "cell_type": "code",
   "execution_count": 77,
   "metadata": {},
   "outputs": [
    {
     "data": {
      "text/plain": [
       "array([[0.26894142],\n",
       "       [0.26894142],\n",
       "       [0.26894142],\n",
       "       [0.62245933],\n",
       "       [0.73105858],\n",
       "       [0.62245933]])"
      ]
     },
     "execution_count": 77,
     "metadata": {},
     "output_type": "execute_result"
    }
   ],
   "source": [
    "f_wb(w_tmp, b_tmp, X_train)"
   ]
  },
  {
   "cell_type": "code",
   "execution_count": 78,
   "metadata": {},
   "outputs": [],
   "source": [
    "def BinaryCrossentropy(y_pred, y_true):\n",
    "    m = len(y_true)\n",
    "    return np.sum(-(y_true * np.log(y_pred) + (1 - y_true) * np.log(1 - y_pred)) / m)"
   ]
  },
  {
   "cell_type": "code",
   "execution_count": 79,
   "metadata": {},
   "outputs": [
    {
     "data": {
      "text/plain": [
       "4.701200718433104"
      ]
     },
     "execution_count": 79,
     "metadata": {},
     "output_type": "execute_result"
    }
   ],
   "source": [
    "BinaryCrossentropy(f_wb(w_tmp, b_tmp, X_train), y_train)"
   ]
  },
  {
   "cell_type": "code",
   "execution_count": 80,
   "metadata": {},
   "outputs": [],
   "source": [
    "def Gradient(w_in = None, b_in = None, function = f_wb, x = None, y = None):\n",
    "    w = copy.deepcopy(w_in)\n",
    "    b = b_in\n",
    "    m = len(y)\n",
    "    f = function\n",
    "    y = y.reshape(-1, 1)\n",
    "\n",
    "    df_dw = np.sum((f(w, b, x) - y) * x, axis = 0) / m\n",
    "    df_db = np.sum(f(w, b, x) - y) / m\n",
    "\n",
    "    return df_dw, df_db"
   ]
  },
  {
   "cell_type": "markdown",
   "metadata": {},
   "source": [
    "Checking the implementation of `Gradient` function"
   ]
  },
  {
   "cell_type": "code",
   "execution_count": 81,
   "metadata": {},
   "outputs": [
    {
     "name": "stdout",
     "output_type": "stream",
     "text": [
      "[0.49833339 0.49883943] 0.49861806546328574\n"
     ]
    }
   ],
   "source": [
    "X_tmp = np.array([[0.5, 1.5], [1,1], [1.5, 0.5], [3, 0.5], [2, 2], [1, 2.5]])\n",
    "y_tmp = np.array([0, 0, 0, 1, 1, 1])\n",
    "w_tmp = np.array([2.,3.])\n",
    "b_tmp = 1.\n",
    "df_dw, df_db = Gradient(w_tmp, b_tmp, f_wb, X_tmp, y_tmp)\n",
    "print(df_dw, df_db)"
   ]
  },
  {
   "cell_type": "code",
   "execution_count": null,
   "metadata": {},
   "outputs": [],
   "source": []
  }
 ],
 "metadata": {
  "kernelspec": {
   "display_name": "Python 3",
   "language": "python",
   "name": "python3"
  },
  "language_info": {
   "codemirror_mode": {
    "name": "ipython",
    "version": 3
   },
   "file_extension": ".py",
   "mimetype": "text/x-python",
   "name": "python",
   "nbconvert_exporter": "python",
   "pygments_lexer": "ipython3",
   "version": "3.8.18"
  }
 },
 "nbformat": 4,
 "nbformat_minor": 2
}
